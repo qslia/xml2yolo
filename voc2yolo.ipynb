{
 "cells": [
  {
   "cell_type": "code",
   "execution_count": 1,
   "id": "017d606f",
   "metadata": {},
   "outputs": [],
   "source": [
    "from pathlib import Path\n",
    "from tqdm import tqdm\n",
    "import shutil\n",
    "import xml.etree.ElementTree as ET\n",
    "import yaml"
   ]
  },
  {
   "cell_type": "code",
   "execution_count": 2,
   "id": "6c9fa0c7",
   "metadata": {},
   "outputs": [],
   "source": [
    "cur_path = Path('.')"
   ]
  },
  {
   "cell_type": "code",
   "execution_count": 3,
   "id": "2424f5a7",
   "metadata": {},
   "outputs": [
    {
     "data": {
      "text/plain": [
       "PosixPath('/home/p/datasets/VOC')"
      ]
     },
     "execution_count": 3,
     "metadata": {},
     "output_type": "execute_result"
    }
   ],
   "source": [
    "cur_path.absolute()"
   ]
  },
  {
   "cell_type": "code",
   "execution_count": 4,
   "id": "9d5b2578",
   "metadata": {},
   "outputs": [],
   "source": [
    "images_path = cur_path / 'images'\n",
    "labels_path = cur_path / 'labels'"
   ]
  },
  {
   "cell_type": "code",
   "execution_count": 5,
   "id": "27193cc5",
   "metadata": {},
   "outputs": [],
   "source": [
    "images_train2012 = images_path / 'train2012'\n",
    "images_val2012 = images_path / 'val2012'\n",
    "\n",
    "images_train2007 = images_path / 'train2007'\n",
    "images_val2007 = images_path / 'val2007'\n",
    "images_test2007 = images_path / 'test2007'\n",
    "\n",
    "images_train2012.mkdir(parents=True, exist_ok=True)\n",
    "images_val2012.mkdir(parents=True, exist_ok=True)\n",
    "\n",
    "images_train2007.mkdir(parents=True, exist_ok=True)\n",
    "images_val2007.mkdir(parents=True, exist_ok=True)\n",
    "images_test2007.mkdir(parents=True, exist_ok=True)"
   ]
  },
  {
   "cell_type": "code",
   "execution_count": 6,
   "id": "81483d11",
   "metadata": {},
   "outputs": [],
   "source": [
    "labels_train2012 = labels_path / 'train2012'\n",
    "labels_val2012 = labels_path / 'val2012'\n",
    "\n",
    "labels_train2007 = labels_path / 'train2007'\n",
    "labels_val2007 = labels_path / 'val2007'\n",
    "labels_test2007 = labels_path / 'test2007'\n",
    "\n",
    "labels_train2012.mkdir(parents=True, exist_ok=True)\n",
    "labels_val2012.mkdir(parents=True, exist_ok=True)\n",
    "\n",
    "labels_train2007.mkdir(parents=True, exist_ok=True)\n",
    "labels_val2007.mkdir(parents=True, exist_ok=True)\n",
    "labels_test2007.mkdir(parents=True, exist_ok=True)"
   ]
  },
  {
   "cell_type": "code",
   "execution_count": 7,
   "id": "181f478a",
   "metadata": {},
   "outputs": [],
   "source": [
    "txt_paths = ['VOCtest_06-Nov-2007/VOCdevkit/VOC2007/ImageSets/Main/test.txt',\n",
    "        \n",
    "        'VOCtrainval_06-Nov-2007/VOCdevkit/VOC2007/ImageSets/Main/train.txt',\n",
    "        'VOCtrainval_06-Nov-2007/VOCdevkit/VOC2007/ImageSets/Main/val.txt',\n",
    "        \n",
    "        'VOCtrainval_11-May-2012/VOCdevkit/VOC2012/ImageSets/Main/train.txt',\n",
    "        'VOCtrainval_11-May-2012/VOCdevkit/VOC2012/ImageSets/Main/val.txt']\n",
    "\n",
    "image_paths = ['VOCtest_06-Nov-2007/VOCdevkit/VOC2007/JPEGImages',\n",
    "               \n",
    "               'VOCtrainval_06-Nov-2007/VOCdevkit/VOC2007/JPEGImages',\n",
    "               \n",
    "               'VOCtrainval_11-May-2012/VOCdevkit/VOC2012/JPEGImages']\n",
    "\n",
    "annotations = ['VOCtest_06-Nov-2007/VOCdevkit/VOC2007/Annotations',\n",
    "               \n",
    "               'VOCtrainval_06-Nov-2007/VOCdevkit/VOC2007//Annotations',\n",
    "               \n",
    "               'VOCtrainval_11-May-2012/VOCdevkit/VOC2012/Annotations']"
   ]
  },
  {
   "cell_type": "code",
   "execution_count": 8,
   "id": "6f625053",
   "metadata": {},
   "outputs": [],
   "source": [
    "voc2007 = {'txt_paths': {'test': txt_paths[0], 'train': txt_paths[1], 'val': txt_paths[2]},\n",
    "          'image_paths': {'test': image_paths[0], 'train': image_paths[1], 'val': image_paths[1]},\n",
    "          'dest_path_img': {'test': images_test2007, 'train':images_train2007, 'val': images_val2007},\n",
    "          'dest_path_txt': {'test': labels_test2007, 'train':labels_train2007, 'val': labels_val2007},\n",
    "          'annotations': {'test': annotations[0], 'train':annotations[1], 'val': annotations[1]}}"
   ]
  },
  {
   "cell_type": "code",
   "execution_count": 9,
   "id": "1df1ce1f",
   "metadata": {},
   "outputs": [],
   "source": [
    "voc2012 = {'txt_paths': {'test': '', 'train': txt_paths[3], 'val': txt_paths[4]},\n",
    "          'image_paths': {'test': '', 'train': image_paths[2], 'val': image_paths[2]},\n",
    "          'dest_path_img': {'test': '', 'train':images_train2012, 'val': images_val2012},\n",
    "          'dest_path_txt': {'test': '', 'train':labels_train2012, 'val': labels_val2012},\n",
    "          'annotations': {'test': '', 'train':annotations[2], 'val': annotations[2]}}"
   ]
  },
  {
   "cell_type": "code",
   "execution_count": 10,
   "id": "5512fd7b",
   "metadata": {},
   "outputs": [],
   "source": [
    "voc = {'2007': voc2007, '2012': voc2012}"
   ]
  },
  {
   "cell_type": "code",
   "execution_count": 11,
   "id": "e602cdb8",
   "metadata": {},
   "outputs": [
    {
     "name": "stdout",
     "output_type": "stream",
     "text": [
      "2007 test\n",
      "2007 train\n",
      "2007 val\n",
      "2012 train\n",
      "2012 val\n"
     ]
    }
   ],
   "source": [
    "missions = []\n",
    "for year in ['2007', '2012']:\n",
    "    for task in ['test', 'train', 'val']:\n",
    "        if year == '2012' and task == 'test':\n",
    "            continue\n",
    "        print(year, task)\n",
    "        missions.append((year, task))"
   ]
  },
  {
   "cell_type": "code",
   "execution_count": 12,
   "id": "e097789e",
   "metadata": {},
   "outputs": [],
   "source": [
    "with open('classes.yaml', encoding='utf-8') as f:\n",
    "    classes = yaml.safe_load(f)"
   ]
  },
  {
   "cell_type": "code",
   "execution_count": 13,
   "id": "fe8de4b6",
   "metadata": {},
   "outputs": [],
   "source": [
    "classes_new = {}\n",
    "for k, v in classes.items():\n",
    "    classes_new[v] = k"
   ]
  },
  {
   "cell_type": "code",
   "execution_count": 14,
   "id": "5321ad50",
   "metadata": {},
   "outputs": [
    {
     "data": {
      "text/plain": [
       "{'aeroplane': 0,\n",
       " 'bicycle': 1,\n",
       " 'bird': 2,\n",
       " 'boat': 3,\n",
       " 'bottle': 4,\n",
       " 'bus': 5,\n",
       " 'car': 6,\n",
       " 'cat': 7,\n",
       " 'chair': 8,\n",
       " 'cow': 9,\n",
       " 'diningtable': 10,\n",
       " 'dog': 11,\n",
       " 'horse': 12,\n",
       " 'motorbike': 13,\n",
       " 'person': 14,\n",
       " 'pottedplant': 15,\n",
       " 'sheep': 16,\n",
       " 'sofa': 17,\n",
       " 'train': 18,\n",
       " 'tvmonitor': 19}"
      ]
     },
     "execution_count": 14,
     "metadata": {},
     "output_type": "execute_result"
    }
   ],
   "source": [
    "classes_new"
   ]
  },
  {
   "cell_type": "code",
   "execution_count": 15,
   "id": "27548443",
   "metadata": {},
   "outputs": [
    {
     "name": "stderr",
     "output_type": "stream",
     "text": [
      "test2007: 100%|███████████████████████████| 4952/4952 [00:01<00:00, 4032.29it/s]\n",
      "train2007: 100%|██████████████████████████| 2501/2501 [00:00<00:00, 3929.29it/s]\n",
      "val2007: 100%|████████████████████████████| 2510/2510 [00:00<00:00, 3934.26it/s]\n",
      "train2012: 100%|██████████████████████████| 5717/5717 [00:03<00:00, 1560.52it/s]\n",
      "val2012: 100%|████████████████████████████| 5823/5823 [00:03<00:00, 1885.92it/s]\n"
     ]
    }
   ],
   "source": [
    "for year, task in missions:\n",
    "    with open(str(Path(voc[year]['txt_paths'][task]).absolute()), encoding='utf-8') as f:\n",
    "        image_ids = f.read().strip().split()\n",
    "        \n",
    "        \n",
    "    for id_ in tqdm(image_ids, desc=f'{task}{year}'):\n",
    "        src_img_path = Path(voc[year]['image_paths'][task]) / (id_ + '.jpg')\n",
    "\n",
    "        shutil.copy(str(src_img_path.absolute()), voc[year]['dest_path_img'][task])\n",
    "        \n",
    "        src_path_xml = Path(voc[year]['annotations'][task]) / (id_ + '.xml')\n",
    "\n",
    "        with open( str(src_path_xml.absolute()), encoding='utf-8') as f:\n",
    "            root = ET.parse(f).getroot()\n",
    "            size = root.find('size')\n",
    "            width = int(size.find('width').text)\n",
    "            height = int(size.find('height').text)\n",
    "            \n",
    "            objects = root.findall('object')\n",
    "            s = ''\n",
    "            for object_ in objects:\n",
    "                name = object_.find('name').text\n",
    "                class_index = classes_new[name]\n",
    "                \n",
    "                bndbox = object_.find('bndbox')\n",
    "                xmin = int(bndbox.find('xmin').text)\n",
    "                ymin = int(bndbox.find('ymin').text)\n",
    "                xmax = int(bndbox.find('xmax').text)\n",
    "                ymax = int(bndbox.find('ymax').text)\n",
    "\n",
    "                cx = (xmin + xmax) / 2 / width\n",
    "                cy = (ymin + ymax) / 2 / height\n",
    "                w = (xmax - xmin) / width\n",
    "                h = (ymax - ymin) / height\n",
    "                \n",
    "                cx = round(cx, 6)\n",
    "                cy = round(cy, 6)\n",
    "                w = round(w, 6)\n",
    "                h = round(h, 6)\n",
    "                \n",
    "                s += f\"{class_index} {cx:.6f} {cy:.6f} {w:.6f} {h:.6f}\\n\"\n",
    "        \n",
    "        dst_path_txt = Path(voc[year]['dest_path_txt'][task]) / (id_ + '.txt')\n",
    "        with open(str(dst_path_txt.absolute()), 'w', encoding='utf-8') as f:\n",
    "            f.write(s)\n"
   ]
  },
  {
   "cell_type": "code",
   "execution_count": null,
   "id": "83b3fa2b",
   "metadata": {},
   "outputs": [],
   "source": []
  }
 ],
 "metadata": {
  "kernelspec": {
   "display_name": "Python 3 (ipykernel)",
   "language": "python",
   "name": "python3"
  },
  "language_info": {
   "codemirror_mode": {
    "name": "ipython",
    "version": 3
   },
   "file_extension": ".py",
   "mimetype": "text/x-python",
   "name": "python",
   "nbconvert_exporter": "python",
   "pygments_lexer": "ipython3",
   "version": "3.10.9"
  }
 },
 "nbformat": 4,
 "nbformat_minor": 5
}
