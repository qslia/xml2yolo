{
 "cells": [
  {
   "cell_type": "code",
   "execution_count": 1,
   "id": "fba7aadc-f0af-447a-acf9-ff47b83f458c",
   "metadata": {},
   "outputs": [],
   "source": [
    "import os\n",
    "import cv2\n",
    "from pathlib import Path\n",
    "from tqdm import tqdm\n",
    "\n",
    "import lxml \n",
    "import xml.etree.ElementTree "
   ]
  },
  {
   "cell_type": "code",
   "execution_count": 18,
   "id": "4034f350-d3f8-4e37-ad2a-230ec594b3c6",
   "metadata": {},
   "outputs": [],
   "source": [
    "classes = {'ao-xian': 0}"
   ]
  },
  {
   "cell_type": "code",
   "execution_count": 1,
   "id": "cb47dc54-d540-4c7c-b170-9946bf5abfc6",
   "metadata": {},
   "outputs": [],
   "source": [
    "path = Path('VOCdevkit/VOC2007/Annotations/')"
   ]
  },
  {
   "cell_type": "code",
   "execution_count": 45,
   "id": "1a625861-3290-4a97-9db2-a0116b69de9e",
   "metadata": {},
   "outputs": [],
   "source": [
    "xml_files = os.listdir(str(path))"
   ]
  },
  {
   "cell_type": "code",
   "execution_count": 49,
   "id": "67b64aea-896f-4489-ac39-e663781fb0c1",
   "metadata": {},
   "outputs": [
    {
     "name": "stderr",
     "output_type": "stream",
     "text": [
      "100%|██████████| 169/169 [00:30<00:00,  5.48it/s]\n"
     ]
    }
   ],
   "source": [
    "for file in tqdm(xml_files):\n",
    "    \n",
    "    file_path = path / file\n",
    "    \n",
    "    if file_path.suffix == '.xml':\n",
    "        \n",
    "        xmltree = xml.etree.ElementTree.parse(\n",
    "            \n",
    "            str(file_path.absolute()), \n",
    "                                              \n",
    "            parser=lxml.etree.XMLParser(encoding='utf-8')\n",
    "                                             \n",
    "        ).getroot()\n",
    "        \n",
    "        filename = xmltree.find('filename').text\n",
    "        \n",
    "        img_src_path = path.parent / 'JPEGImages' / filename\n",
    "\n",
    "        for object_iter in xmltree.findall('object'):\n",
    "            \n",
    "            bndbox = object_iter.find(\"bndbox\")\n",
    "            \n",
    "            label = object_iter.find('name').text\n",
    "\n",
    "            difficult = False\n",
    "            if object_iter.find('difficult') is not None:\n",
    "                difficult = bool(int(object_iter.find('difficult').text))\n",
    "\n",
    "            xmin = int(bndbox.find('xmin').text)\n",
    "            ymin = int(bndbox.find('ymin').text)\n",
    "            xmax = int(bndbox.find('xmax').text)\n",
    "            ymax = int(bndbox.find('ymax').text)\n",
    "\n",
    "            src_path = path.parent / 'labels_yolo' / (file.split('.')[0] + '.txt')\n",
    "            \n",
    "            with open(str(src_path.absolute()), 'w', encoding='utf-8') as f:\n",
    "                \n",
    "                class_idx = classes[label]\n",
    "                \n",
    "                height, width, _ = cv2.imread(str(img_src_path.absolute())).shape\n",
    "\n",
    "                center_x = (xmin + xmax) / 2 / width\n",
    "                center_y = (ymin + ymax) / 2 / height\n",
    "                w = (xmax - xmin) / width\n",
    "                h = (ymax - ymin) / height\n",
    "                \n",
    "                center_x = round(center_x, 6)\n",
    "                center_y = round(center_y, 6)\n",
    "                w = round(w, 6)\n",
    "                h = round(h, 6)\n",
    "                \n",
    "                s = f'{class_idx}, {center_x}, {center_y}, {w}, {h}\\n'\n",
    "                \n",
    "                f.write(s)"
   ]
  }
 ],
 "metadata": {
  "kernelspec": {
   "display_name": "Python 3 (ipykernel)",
   "language": "python",
   "name": "python3"
  },
  "language_info": {
   "codemirror_mode": {
    "name": "ipython",
    "version": 3
   },
   "file_extension": ".py",
   "mimetype": "text/x-python",
   "name": "python",
   "nbconvert_exporter": "python",
   "pygments_lexer": "ipython3",
   "version": "3.9.13"
  }
 },
 "nbformat": 4,
 "nbformat_minor": 5
}
