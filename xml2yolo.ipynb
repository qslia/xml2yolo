{
 "cells": [
  {
   "cell_type": "code",
   "execution_count": 20,
   "id": "5d9c89a8",
   "metadata": {},
   "outputs": [],
   "source": [
    "import os\n",
    "import cv2\n",
    "from pathlib import Path\n",
    "from tqdm import tqdm\n",
    "\n",
    "from lxml import etree\n",
    "import xml.etree.ElementTree"
   ]
  },
  {
   "cell_type": "code",
   "execution_count": 42,
   "id": "58f60cf7",
   "metadata": {},
   "outputs": [],
   "source": [
    "classes = {'with_mask': 0, 'without_mask': 1, 'mask_weared_incorrect': 2}"
   ]
  },
  {
   "cell_type": "code",
   "execution_count": 9,
   "id": "164d4c8e",
   "metadata": {},
   "outputs": [],
   "source": [
    "path = Path('./annotations/')"
   ]
  },
  {
   "cell_type": "code",
   "execution_count": 10,
   "id": "81046878",
   "metadata": {},
   "outputs": [],
   "source": [
    "xml_files = os.listdir(path)"
   ]
  },
  {
   "cell_type": "code",
   "execution_count": 12,
   "id": "0e0825cd",
   "metadata": {},
   "outputs": [
    {
     "data": {
      "text/plain": [
       "853"
      ]
     },
     "execution_count": 12,
     "metadata": {},
     "output_type": "execute_result"
    }
   ],
   "source": [
    "len(xml_files)"
   ]
  },
  {
   "cell_type": "code",
   "execution_count": 23,
   "id": "c1e450a6",
   "metadata": {},
   "outputs": [],
   "source": [
    "if not os.path.exists('labels'):\n",
    "    os.makedirs('labels')"
   ]
  },
  {
   "cell_type": "code",
   "execution_count": 43,
   "id": "bdae9dbd",
   "metadata": {},
   "outputs": [
    {
     "name": "stderr",
     "output_type": "stream",
     "text": [
      "  1%|▍                                          | 9/853 [00:00<00:36, 23.06it/s]libpng warning: iCCP: Not recognizing known sRGB profile that has been edited\n",
      "libpng warning: iCCP: Not recognizing known sRGB profile that has been edited\n",
      "libpng warning: iCCP: Not recognizing known sRGB profile that has been edited\n",
      "libpng warning: iCCP: Not recognizing known sRGB profile that has been edited\n",
      "libpng warning: iCCP: Not recognizing known sRGB profile that has been edited\n",
      "100%|█████████████████████████████████████████| 853/853 [00:24<00:00, 34.15it/s]\n"
     ]
    }
   ],
   "source": [
    "for file in tqdm(xml_files):\n",
    "    src_path = path / file\n",
    "    \n",
    "    if src_path.suffix == '.xml':\n",
    "        \n",
    "        root = xml.etree.ElementTree.parse(\n",
    "            \n",
    "            str(src_path.absolute()),\n",
    "            \n",
    "            parser=etree.XMLParser(encoding='utf-8')\n",
    "            \n",
    "        ).getroot()\n",
    "        \n",
    "        filename = root.find('filename').text\n",
    "        \n",
    "        img_path = (path.parent / 'images' / filename).with_suffix('.png')\n",
    "        \n",
    "        dst_path = (path.parent / 'labels' / file).with_suffix('.txt')\n",
    "        with open(str(dst_path.absolute()), 'w', encoding='utf-8') as f:\n",
    "        \n",
    "            for object_ in root.findall('object'):\n",
    "\n",
    "                bndbox = object_.find('bndbox')\n",
    "                name = object_.find('name').text\n",
    "\n",
    "\n",
    "\n",
    "                difficult = False\n",
    "                if object_.find('difficult') is not None:\n",
    "                    difficult = bool(int(object_.find('difficult').text))\n",
    "\n",
    "                xmin = int(bndbox.find('xmin').text)\n",
    "                ymin = int(bndbox.find('ymin').text)\n",
    "                xmax = int(bndbox.find('xmax').text)\n",
    "                ymax = int(bndbox.find('ymax').text)\n",
    "\n",
    "                class_idx = classes[name]\n",
    "\n",
    "                height, width, _ = cv2.imread(str(img_path.absolute())).shape\n",
    "\n",
    "                center_x = (xmin + xmax) / 2 / width\n",
    "                center_y = (ymin + ymax) / 2 / height\n",
    "                w = (xmax - xmin) / width\n",
    "                h = (ymax - ymin) / height\n",
    "\n",
    "                center_x = round(center_x, 6)\n",
    "                center_y = round(center_y, 6)\n",
    "                w = round(w, 6)\n",
    "                h = round(h, 6)\n",
    "\n",
    "                s = f'{class_idx} {center_x:.6f} {center_y:.6f} {w:.6f} {h:.6f}\\n'\n",
    "\n",
    "                f.write(s)\n"
   ]
  },
  {
   "cell_type": "code",
   "execution_count": null,
   "id": "bb7d839a",
   "metadata": {},
   "outputs": [],
   "source": []
  }
 ],
 "metadata": {
  "kernelspec": {
   "display_name": "Python 3 (ipykernel)",
   "language": "python",
   "name": "python3"
  },
  "language_info": {
   "codemirror_mode": {
    "name": "ipython",
    "version": 3
   },
   "file_extension": ".py",
   "mimetype": "text/x-python",
   "name": "python",
   "nbconvert_exporter": "python",
   "pygments_lexer": "ipython3",
   "version": "3.10.9"
  }
 },
 "nbformat": 4,
 "nbformat_minor": 5
}
